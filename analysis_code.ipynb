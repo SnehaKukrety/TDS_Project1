{
  "nbformat": 4,
  "nbformat_minor": 0,
  "metadata": {
    "colab": {
      "provenance": []
    },
    "kernelspec": {
      "name": "python3",
      "display_name": "Python 3"
    },
    "language_info": {
      "name": "python"
    }
  },
  "cells": [
    {
      "cell_type": "code",
      "source": [
        "import pandas as pd\n",
        "import numpy as np\n",
        "import matplotlib.pyplot as plt"
      ],
      "metadata": {
        "id": "dt8qldA5THP-"
      },
      "execution_count": 1,
      "outputs": []
    },
    {
      "cell_type": "markdown",
      "source": [
        "Q1. 1. Who are the top 5 users in Moscow with the highest number of followers? List their login in order, comma-separated."
      ],
      "metadata": {
        "id": "unkjotKHS4Sy"
      }
    },
    {
      "cell_type": "code",
      "execution_count": 2,
      "metadata": {
        "id": "9d5sySd_KebO",
        "colab": {
          "base_uri": "https://localhost:8080/"
        },
        "outputId": "a2a26078-3d69-4f7b-9429-ca15ffe8e4b7"
      },
      "outputs": [
        {
          "output_type": "stream",
          "name": "stdout",
          "text": [
            "AlexGyver,carlcastanas,sergeyshaykhullin,alexey-goloburdin,richardroberti\n"
          ]
        }
      ],
      "source": [
        "import pandas as pd\n",
        "\n",
        "# Load the users.csv data\n",
        "users_df = pd.read_csv('users.csv')\n",
        "top5 = users_df.sort_values(by='followers', ascending=False).head()\n",
        "print(','.join(top5['login'].tolist()))\n",
        "\n"
      ]
    },
    {
      "cell_type": "code",
      "source": [
        "\n",
        "users_df.head()\n",
        "users_df['hireable'].value_counts()\n"
      ],
      "metadata": {
        "colab": {
          "base_uri": "https://localhost:8080/",
          "height": 147
        },
        "id": "nB7fKJpjv0GB",
        "outputId": "cbba3716-2fb8-4764-a906-3aba43cc8679"
      },
      "execution_count": 3,
      "outputs": [
        {
          "output_type": "execute_result",
          "data": {
            "text/plain": [
              "hireable\n",
              "True    134\n",
              "Name: count, dtype: int64"
            ],
            "text/html": [
              "<div>\n",
              "<style scoped>\n",
              "    .dataframe tbody tr th:only-of-type {\n",
              "        vertical-align: middle;\n",
              "    }\n",
              "\n",
              "    .dataframe tbody tr th {\n",
              "        vertical-align: top;\n",
              "    }\n",
              "\n",
              "    .dataframe thead th {\n",
              "        text-align: right;\n",
              "    }\n",
              "</style>\n",
              "<table border=\"1\" class=\"dataframe\">\n",
              "  <thead>\n",
              "    <tr style=\"text-align: right;\">\n",
              "      <th></th>\n",
              "      <th>count</th>\n",
              "    </tr>\n",
              "    <tr>\n",
              "      <th>hireable</th>\n",
              "      <th></th>\n",
              "    </tr>\n",
              "  </thead>\n",
              "  <tbody>\n",
              "    <tr>\n",
              "      <th>True</th>\n",
              "      <td>134</td>\n",
              "    </tr>\n",
              "  </tbody>\n",
              "</table>\n",
              "</div><br><label><b>dtype:</b> int64</label>"
            ]
          },
          "metadata": {},
          "execution_count": 3
        }
      ]
    },
    {
      "cell_type": "markdown",
      "source": [
        "Q2. 2. Who are the 5 earliest registered GitHub users in Moscow? List their login in ascending order of created_at, comma-separated."
      ],
      "metadata": {
        "id": "QevbaNF-b5B0"
      }
    },
    {
      "cell_type": "code",
      "source": [
        "import pandas as pd\n",
        "\n",
        "# Load the users.csv data\n",
        "users_df = pd.read_csv('users.csv')\n",
        "\n",
        "# Convert created_at to datetime format for accurate sorting\n",
        "users_df['created_at'] = pd.to_datetime(users_df['created_at'])\n",
        "\n",
        "# Sort users by created_at in ascending order and select the top 5 earliest users\n",
        "earliest_users = users_df.sort_values(by='created_at', ascending=True).head(5)\n",
        "\n",
        "# Get the 'login' values for the earliest users and join them in a comma-separated format\n",
        "earliest_user_logins = ','.join(earliest_users['login'].tolist())\n",
        "\n",
        "print(\"5 earliest registered users in Moscow:\", earliest_user_logins)\n"
      ],
      "metadata": {
        "colab": {
          "base_uri": "https://localhost:8080/"
        },
        "id": "A2dVOmIYS-bI",
        "outputId": "a179f7b3-45b9-4dda-c2da-708ea48c6612"
      },
      "execution_count": 4,
      "outputs": [
        {
          "output_type": "stream",
          "name": "stdout",
          "text": [
            "5 earliest registered users in Moscow: maxlapshin,veged,alexeyr,alec-c4,alno\n"
          ]
        }
      ]
    },
    {
      "cell_type": "markdown",
      "source": [
        "Q3. What are the 3 most popular license among these users? Ignore missing licenses. List the license_name in order, comma-separated."
      ],
      "metadata": {
        "id": "pz0h5PhbcK3j"
      }
    },
    {
      "cell_type": "code",
      "source": [
        "import pandas as pd\n",
        "\n",
        "# Load the repositories.csv data\n",
        "repos_df = pd.read_csv('repositories.csv')\n",
        "\n",
        "# Filter out rows where 'license_name' is missing or null\n",
        "repos_with_licenses = repos_df.dropna(subset=['license_name'])\n",
        "\n",
        "# Count occurrences of each license_name and get the top 3 most common licenses\n",
        "top_licenses = repos_with_licenses['license_name'].value_counts().head(3)\n",
        "\n",
        "# Join the top license names as a comma-separated string\n",
        "top_license_names = ','.join(top_licenses.index.tolist())\n",
        "\n",
        "print(\"3 most popular licenses:\", top_license_names)\n"
      ],
      "metadata": {
        "colab": {
          "base_uri": "https://localhost:8080/"
        },
        "id": "3Uk4tM-0cRyv",
        "outputId": "4d57a6f9-bee0-4589-c14c-9062962c6ff9"
      },
      "execution_count": 5,
      "outputs": [
        {
          "output_type": "stream",
          "name": "stdout",
          "text": [
            "3 most popular licenses: mit,other,apache-2.0\n"
          ]
        }
      ]
    },
    {
      "cell_type": "markdown",
      "source": [
        "Q4. Which company do the majority of these developers work at?\n",
        "Company (cleaned up as explained above)"
      ],
      "metadata": {
        "id": "uTolo-A2cdUm"
      }
    },
    {
      "cell_type": "code",
      "source": [
        "import pandas as pd\n",
        "\n",
        "# Load the users.csv data\n",
        "users_df= pd.read_csv('users.csv')\n",
        "\n",
        "# Clean up the company names\n",
        "def clean_company_name(company):\n",
        "    if pd.isna(company):  # Check for missing values\n",
        "        return \"\"\n",
        "    company = company.strip().upper()  # Trim whitespace and convert to uppercase\n",
        "    if company.startswith('@'):\n",
        "        company = company[1:]  # Remove leading '@' symbol if present\n",
        "    return company\n",
        "\n",
        "# Apply cleaning function to the 'company' column\n",
        "users_df['company'] = users_df['company'].apply(clean_company_name)\n",
        "\n",
        "# Filter out empty company values\n",
        "companies_with_names = users_df[users_df['company'] != \"\"]\n",
        "\n",
        "# Find the most common company\n",
        "most_common_company = companies_with_names['company'].value_counts().idxmax()\n",
        "\n",
        "print(\"The company where the majority of developers work:\", most_common_company)\n"
      ],
      "metadata": {
        "colab": {
          "base_uri": "https://localhost:8080/"
        },
        "id": "7-c531uNchJc",
        "outputId": "a4761790-9cb1-4243-99aa-43a9abfc93fc"
      },
      "execution_count": 6,
      "outputs": [
        {
          "output_type": "stream",
          "name": "stdout",
          "text": [
            "The company where the majority of developers work: YANDEX\n"
          ]
        }
      ]
    },
    {
      "cell_type": "markdown",
      "source": [
        "Q5. Which programming language is most popular among these users?"
      ],
      "metadata": {
        "id": "34F2w_IJctKh"
      }
    },
    {
      "cell_type": "code",
      "source": [
        "import pandas as pd\n",
        "\n",
        "# Load the repositories.csv data\n",
        "repos_df = pd.read_csv('repositories.csv')\n",
        "\n",
        "# Filter out rows where 'language' is missing\n",
        "repos_with_languages = repos_df.dropna(subset=['language'])\n",
        "\n",
        "# Count occurrences of each language and find the most common one\n",
        "most_common_language = repos_with_languages['language'].value_counts().idxmax()\n",
        "\n",
        "print(\"The most popular programming language:\", most_common_language)\n",
        "repos_df['language'].value_counts().head(5)\n"
      ],
      "metadata": {
        "colab": {
          "base_uri": "https://localhost:8080/",
          "height": 289
        },
        "id": "e5sEjhMTcvG9",
        "outputId": "18c8c7d2-a507-4d67-d813-46f210e149cd"
      },
      "execution_count": 127,
      "outputs": [
        {
          "output_type": "stream",
          "name": "stdout",
          "text": [
            "The most popular programming language: JavaScript\n"
          ]
        },
        {
          "output_type": "execute_result",
          "data": {
            "text/plain": [
              "language\n",
              "JavaScript    2972\n",
              "Python        2321\n",
              "C++           1202\n",
              "Java          1046\n",
              "C#             968\n",
              "Name: count, dtype: int64"
            ],
            "text/html": [
              "<div>\n",
              "<style scoped>\n",
              "    .dataframe tbody tr th:only-of-type {\n",
              "        vertical-align: middle;\n",
              "    }\n",
              "\n",
              "    .dataframe tbody tr th {\n",
              "        vertical-align: top;\n",
              "    }\n",
              "\n",
              "    .dataframe thead th {\n",
              "        text-align: right;\n",
              "    }\n",
              "</style>\n",
              "<table border=\"1\" class=\"dataframe\">\n",
              "  <thead>\n",
              "    <tr style=\"text-align: right;\">\n",
              "      <th></th>\n",
              "      <th>count</th>\n",
              "    </tr>\n",
              "    <tr>\n",
              "      <th>language</th>\n",
              "      <th></th>\n",
              "    </tr>\n",
              "  </thead>\n",
              "  <tbody>\n",
              "    <tr>\n",
              "      <th>JavaScript</th>\n",
              "      <td>2972</td>\n",
              "    </tr>\n",
              "    <tr>\n",
              "      <th>Python</th>\n",
              "      <td>2321</td>\n",
              "    </tr>\n",
              "    <tr>\n",
              "      <th>C++</th>\n",
              "      <td>1202</td>\n",
              "    </tr>\n",
              "    <tr>\n",
              "      <th>Java</th>\n",
              "      <td>1046</td>\n",
              "    </tr>\n",
              "    <tr>\n",
              "      <th>C#</th>\n",
              "      <td>968</td>\n",
              "    </tr>\n",
              "  </tbody>\n",
              "</table>\n",
              "</div><br><label><b>dtype:</b> int64</label>"
            ]
          },
          "metadata": {},
          "execution_count": 127
        }
      ]
    },
    {
      "cell_type": "markdown",
      "source": [
        "Q6. Which programming language is the second most popular among users who joined after 2020?"
      ],
      "metadata": {
        "id": "cy14Vta3c69J"
      }
    },
    {
      "cell_type": "code",
      "source": [
        "users_df = pd.read_csv('users.csv')\n",
        "users_df.head()\n",
        "users_df['hireable'] = users_df['hireable'].fillna(False).astype(bool)\n",
        "users_df['created_at'] = pd.to_datetime(users_df['created_at'])\n",
        "\n",
        "# Filter users who joined after 2020\n",
        "\n",
        "users_after_2020 = users_df[users_df['created_at'] > '2020-01-01']\n",
        "users_after_2020.head()\n",
        "repos_2020 = repos_df[repos_df['login'].isin(users_after_2020['login'].tolist())]\n",
        "repos_2020['language'].value_counts().head()\n",
        "\n"
      ],
      "metadata": {
        "colab": {
          "base_uri": "https://localhost:8080/",
          "height": 327
        },
        "id": "uQ6hvNGsc8zr",
        "outputId": "b705d577-76dc-48fc-ec81-ecc26a04399f"
      },
      "execution_count": 8,
      "outputs": [
        {
          "output_type": "stream",
          "name": "stderr",
          "text": [
            "<ipython-input-8-b549b915825b>:3: FutureWarning: Downcasting object dtype arrays on .fillna, .ffill, .bfill is deprecated and will change in a future version. Call result.infer_objects(copy=False) instead. To opt-in to the future behavior, set `pd.set_option('future.no_silent_downcasting', True)`\n",
            "  users_df['hireable'] = users_df['hireable'].fillna(False).astype(bool)\n"
          ]
        },
        {
          "output_type": "execute_result",
          "data": {
            "text/plain": [
              "language\n",
              "JavaScript    227\n",
              "Python        162\n",
              "CSS           116\n",
              "HTML          114\n",
              "TypeScript     87\n",
              "Name: count, dtype: int64"
            ],
            "text/html": [
              "<div>\n",
              "<style scoped>\n",
              "    .dataframe tbody tr th:only-of-type {\n",
              "        vertical-align: middle;\n",
              "    }\n",
              "\n",
              "    .dataframe tbody tr th {\n",
              "        vertical-align: top;\n",
              "    }\n",
              "\n",
              "    .dataframe thead th {\n",
              "        text-align: right;\n",
              "    }\n",
              "</style>\n",
              "<table border=\"1\" class=\"dataframe\">\n",
              "  <thead>\n",
              "    <tr style=\"text-align: right;\">\n",
              "      <th></th>\n",
              "      <th>count</th>\n",
              "    </tr>\n",
              "    <tr>\n",
              "      <th>language</th>\n",
              "      <th></th>\n",
              "    </tr>\n",
              "  </thead>\n",
              "  <tbody>\n",
              "    <tr>\n",
              "      <th>JavaScript</th>\n",
              "      <td>227</td>\n",
              "    </tr>\n",
              "    <tr>\n",
              "      <th>Python</th>\n",
              "      <td>162</td>\n",
              "    </tr>\n",
              "    <tr>\n",
              "      <th>CSS</th>\n",
              "      <td>116</td>\n",
              "    </tr>\n",
              "    <tr>\n",
              "      <th>HTML</th>\n",
              "      <td>114</td>\n",
              "    </tr>\n",
              "    <tr>\n",
              "      <th>TypeScript</th>\n",
              "      <td>87</td>\n",
              "    </tr>\n",
              "  </tbody>\n",
              "</table>\n",
              "</div><br><label><b>dtype:</b> int64</label>"
            ]
          },
          "metadata": {},
          "execution_count": 8
        }
      ]
    },
    {
      "cell_type": "markdown",
      "source": [
        "Q7. Which language has the highest average number of stars per repository?"
      ],
      "metadata": {
        "id": "D5NJZp-AnTxn"
      }
    },
    {
      "cell_type": "code",
      "source": [
        "import pandas as pd\n",
        "\n",
        "# Load the repositories.csv data\n",
        "repos_df = pd.read_csv('repositories.csv')\n",
        "\n",
        "# Filter out rows with missing 'language' or 'stargazers_count'\n",
        "repos_with_stars = repos_df.dropna(subset=['language', 'stargazers_count'])\n",
        "\n",
        "# Group by 'language' and calculate the average stars\n",
        "language_avg_stars = repos_with_stars.groupby('language')['stargazers_count'].mean()\n",
        "\n",
        "# Find the language with the highest average stars\n",
        "top_language = language_avg_stars.idxmax()\n",
        "top_language_avg_stars = language_avg_stars.max()\n",
        "\n",
        "print(f\"The language with the highest average stars per repository is: {top_language} with an average of {top_language_avg_stars:.2f} stars.\")\n"
      ],
      "metadata": {
        "colab": {
          "base_uri": "https://localhost:8080/"
        },
        "id": "_VePOgY-nVlB",
        "outputId": "1bcd12ed-bc90-4f08-8fd9-edb15faf6168"
      },
      "execution_count": 9,
      "outputs": [
        {
          "output_type": "stream",
          "name": "stdout",
          "text": [
            "The language with the highest average stars per repository is: Pascal with an average of 486.76 stars.\n"
          ]
        }
      ]
    },
    {
      "cell_type": "markdown",
      "source": [
        "Q8. Let's define leader_strength as followers / (1 + following). Who are the top 5 in terms of leader_strength? List their login in order, comma-separated."
      ],
      "metadata": {
        "id": "R103An1zuuTM"
      }
    },
    {
      "cell_type": "code",
      "source": [
        "import pandas as pd\n",
        "\n",
        "# Load the users.csv data\n",
        "users_df = pd.read_csv('users.csv')\n",
        "\n",
        "# Calculate leader_strength as followers / (1 + following)\n",
        "users_df['leader_strength'] = users_df['followers'] / (1 + users_df['following'])\n",
        "\n",
        "# Sort users by leader_strength in descending order\n",
        "top_leaders = users_df.sort_values(by='leader_strength', ascending=False).head(5)\n",
        "\n",
        "# Get the top 5 logins in order\n",
        "top_leader_logins = \",\".join(top_leaders['login'].tolist())\n",
        "\n",
        "print(\"The top 5 users in terms of leader_strength are:\",top_leader_logins)\n"
      ],
      "metadata": {
        "colab": {
          "base_uri": "https://localhost:8080/"
        },
        "id": "cs-WkoUMuwJI",
        "outputId": "2552c3a5-6671-4db8-bc02-254e11e67584"
      },
      "execution_count": 108,
      "outputs": [
        {
          "output_type": "stream",
          "name": "stdout",
          "text": [
            "The top 5 users in terms of leader_strength are: AlexGyver,alexey-goloburdin,yandex,yandexdataschool,esokolov\n"
          ]
        }
      ]
    },
    {
      "cell_type": "markdown",
      "source": [
        "Q9. What is the correlation between the number of followers and the number of public repositories among users in Moscow?"
      ],
      "metadata": {
        "id": "TzbgB0oxXV2w"
      }
    },
    {
      "cell_type": "code",
      "source": [
        "correlation = users_df['followers'].corr(users_df['public_repos'])\n",
        "correlation"
      ],
      "metadata": {
        "colab": {
          "base_uri": "https://localhost:8080/"
        },
        "id": "kWYe4rsxvFz1",
        "outputId": "d9824b89-dc44-4cf8-b897-744993cc9f00"
      },
      "execution_count": 11,
      "outputs": [
        {
          "output_type": "execute_result",
          "data": {
            "text/plain": [
              "0.05187844158212267"
            ]
          },
          "metadata": {},
          "execution_count": 11
        }
      ]
    },
    {
      "cell_type": "markdown",
      "source": [
        "Q10. Does creating more repos help users get more followers? Using regression, estimate how many additional followers a user gets per additional public repository."
      ],
      "metadata": {
        "id": "QhAYGn8IVngm"
      }
    },
    {
      "cell_type": "code",
      "source": [
        "import csv\n",
        "import numpy as np\n",
        "followers = []\n",
        "public_repos = []\n",
        "with open('users.csv', 'r', encoding='utf-8') as file:\n",
        "    reader = csv.DictReader(file)\n",
        "    for row in reader:\n",
        "        followers_count = int(row['followers'])\n",
        "        public_repos_count = int(row['public_repos'])\n",
        "        followers.append(followers_count)\n",
        "        public_repos.append(public_repos_count)\n",
        "if len(followers) > 1 and len(public_repos) > 1:\n",
        "    slope, intercept = np.polyfit(public_repos, followers, 1)\n",
        "\n",
        "    print(f\"{slope:.3f}\")\n",
        "else:\n",
        "    print(\"Error\")"
      ],
      "metadata": {
        "colab": {
          "base_uri": "https://localhost:8080/"
        },
        "id": "LV7oLmAWXC1y",
        "outputId": "0b0f76b5-edaa-4da6-d4a1-9c4d55d99711"
      },
      "execution_count": 109,
      "outputs": [
        {
          "output_type": "stream",
          "name": "stdout",
          "text": [
            "0.209\n"
          ]
        }
      ]
    },
    {
      "cell_type": "markdown",
      "source": [
        "Q11. Do people typically enable projects and wikis together? What is the correlation between a repo having projects enabled and having wiki enabled?"
      ],
      "metadata": {
        "id": "WV7D3Va-Xn_l"
      }
    },
    {
      "cell_type": "code",
      "source": [
        "if repos_df['has_projects'].dtype == 'object':\n",
        "    repos_df['has_projects'] = repos_df['has_projects'].map({'true': True, 'false': False})\n",
        "if repos_df['has_wiki'].dtype == 'object':\n",
        "    repos_df['has_wiki'] = repos_df['has_wiki'].map({'true': True, 'false': False})\n",
        "\n",
        "correlation = repos_df['has_projects'].corr(repos_df['has_wiki'])\n",
        "\n",
        "print(round(correlation, 3))"
      ],
      "metadata": {
        "colab": {
          "base_uri": "https://localhost:8080/"
        },
        "id": "TS1wSziNXzf1",
        "outputId": "84df9b45-d45d-4866-ba08-8dc536be482e"
      },
      "execution_count": 110,
      "outputs": [
        {
          "output_type": "stream",
          "name": "stdout",
          "text": [
            "0.345\n"
          ]
        }
      ]
    },
    {
      "cell_type": "markdown",
      "source": [
        "Q12. Do hireable users follow more people than those who are not hireable?"
      ],
      "metadata": {
        "id": "uKg8eFU3YWSo"
      }
    },
    {
      "cell_type": "code",
      "source": [
        "users_df=pd.read_csv('users.csv')\n",
        "users_df.head()\n",
        "user_hireables=users_df[users_df['hireable']=='true']\n",
        "user_not_hireables=users_df[users_df['hireable']=='none']\n",
        "hireable_avg_following = user_hireables['following'].mean()\n",
        "non_hireable_avg_following = user_not_hireables['following'].mean()\n",
        "difference = hireable_avg_following - non_hireable_avg_following\n",
        "difference\n",
        "\n",
        "\n",
        "\n"
      ],
      "metadata": {
        "colab": {
          "base_uri": "https://localhost:8080/"
        },
        "id": "tEM3WjnVYYAm",
        "outputId": "fbf12a69-a7ec-4191-e939-68319368ba7f"
      },
      "execution_count": 111,
      "outputs": [
        {
          "output_type": "execute_result",
          "data": {
            "text/plain": [
              "-29.402525832376575"
            ]
          },
          "metadata": {},
          "execution_count": 111
        }
      ]
    },
    {
      "cell_type": "markdown",
      "source": [
        "13. Some developers write long bios. Does that help them get more followers? What's the correlation of the length of their bio (in Unicode characters) with followers? (Ignore people without bios)\n",
        "Regression slope of followers on bio word count (to 3 decimal places, e.g. 12.345 or -12.345"
      ],
      "metadata": {
        "id": "HdZg2vxTgYbq"
      }
    },
    {
      "cell_type": "code",
      "source": [
        "import pandas as pd\n",
        "import statsmodels.api as sm\n",
        "\n",
        "\n",
        "\n",
        "# Load the CSV into a DataFrame\n",
        "df = pd.read_csv('/content/users.csv')\n",
        "\n",
        "# Check the first few rows and the data types of the DataFrame\n",
        "print(\"DataFrame Overview:\")\n",
        "print(df.head())\n",
        "print(\"\\nDataFrame Info:\")\n",
        "print(df.info())\n",
        "\n",
        "# Filter out users without bios\n",
        "df = df[df['bio'].notnull()]\n",
        "\n",
        "# Calculate the length of each bio in words\n",
        "df['bio_word_count'] = df['bio'].str.split().str.len()\n",
        "\n",
        "# Prepare the independent variable (X) and dependent variable (y)\n",
        "X = df['bio_word_count']\n",
        "y = df['followers']  # Adjust the column name as per your dataset\n",
        "\n",
        "# Add a constant to the independent variable (for the intercept)\n",
        "X = sm.add_constant(X)\n",
        "\n",
        "# Fit the regression model\n",
        "model = sm.OLS(y, X).fit()\n",
        "\n",
        "# Get the slope (coefficient of the bio_word_count)\n",
        "slope = model.params['bio_word_count']\n",
        "\n",
        "# Print the regression slope rounded to three decimal places\n",
        "print(f\"\\nRegression slope of followers on bio word count: {slope:.3f}\")"
      ],
      "metadata": {
        "colab": {
          "base_uri": "https://localhost:8080/"
        },
        "id": "hZANOKDvgcHZ",
        "outputId": "29c287c9-1e3d-4396-9213-605c69193563"
      },
      "execution_count": 1,
      "outputs": [
        {
          "output_type": "stream",
          "name": "stdout",
          "text": [
            "DataFrame Overview:\n",
            "               login                  name  \\\n",
            "0          AlexGyver                  Alex   \n",
            "1       carlcastanas  Carl Andrew Castañas   \n",
            "2  sergeyshaykhullin    Sergey Shaykhullin   \n",
            "3  alexey-goloburdin     Alexey Goloburdin   \n",
            "4     richardroberti       Richard Roberti   \n",
            "\n",
            "                                      company        location  \\\n",
            "0                                         NaN          Moscow   \n",
            "1                                  ICREATECHS          Moscow   \n",
            "2                                         NaN          Moscow   \n",
            "3  TO.DIGITAL, SALESBEAT.PRO, DIGITALIZE.TEAM  Moscow, Russia   \n",
            "4                                      E CORP  Moscow, Russia   \n",
            "\n",
            "               email hireable  \\\n",
            "0  alex@alexgyver.ru     none   \n",
            "1                NaN     true   \n",
            "2                NaN     none   \n",
            "3       sterx@rl6.ru     none   \n",
            "4                NaN     none   \n",
            "\n",
            "                                                 bio  public_repos  followers  \\\n",
            "0  Инженер, изобретатель, ардуинщик, блогер, люби...           147       3318   \n",
            "1                                                NaN            56       2861   \n",
            "2                 Kubernetes 👀 .NET 👀 Rust 👀 Next.js            16       1983   \n",
            "3                                                NaN            27       1853   \n",
            "4                                             DevOps             4       1777   \n",
            "\n",
            "   following            created_at  \n",
            "0          0  2016-08-17T22:15:28Z  \n",
            "1          3  2021-08-17T07:52:33Z  \n",
            "2          3  2019-01-23T16:40:07Z  \n",
            "3          0  2012-06-26T20:23:25Z  \n",
            "4          4  2023-01-27T22:09:59Z  \n",
            "\n",
            "DataFrame Info:\n",
            "<class 'pandas.core.frame.DataFrame'>\n",
            "RangeIndex: 459 entries, 0 to 458\n",
            "Data columns (total 11 columns):\n",
            " #   Column        Non-Null Count  Dtype \n",
            "---  ------        --------------  ----- \n",
            " 0   login         459 non-null    object\n",
            " 1   name          445 non-null    object\n",
            " 2   company       222 non-null    object\n",
            " 3   location      459 non-null    object\n",
            " 4   email         247 non-null    object\n",
            " 5   hireable      459 non-null    object\n",
            " 6   bio           267 non-null    object\n",
            " 7   public_repos  459 non-null    int64 \n",
            " 8   followers     459 non-null    int64 \n",
            " 9   following     459 non-null    int64 \n",
            " 10  created_at    459 non-null    object\n",
            "dtypes: int64(3), object(8)\n",
            "memory usage: 39.6+ KB\n",
            "None\n",
            "\n",
            "Regression slope of followers on bio word count: 0.522\n"
          ]
        }
      ]
    },
    {
      "cell_type": "markdown",
      "source": [
        "Q14. Who created the most repositories on weekends (UTC)? List the top 5 users' login in order, comma-separated"
      ],
      "metadata": {
        "id": "KtsOMkSxhp0N"
      }
    },
    {
      "cell_type": "code",
      "source": [
        "import csv\n",
        "from collections import Counter\n",
        "from datetime import datetime\n",
        "\n",
        "weekend_repo_counts = Counter()\n",
        "\n",
        "with open('repositories.csv', 'r', encoding='utf-8') as file:\n",
        "    reader = csv.DictReader(file)\n",
        "\n",
        "    for row in reader:\n",
        "        created_at = row.get('created_at', '')\n",
        "        if created_at:\n",
        "            created_date = datetime.fromisoformat(created_at[:-1])\n",
        "\n",
        "            if created_date.weekday() in [5, 6]:\n",
        "                user_login = row['login']\n",
        "                weekend_repo_counts[user_login] += 1\n",
        "\n",
        "top_users = weekend_repo_counts.most_common(5)\n",
        "\n",
        "top_logins = [user[0] for user in top_users]\n",
        "\n",
        "print(','.join(top_logins))"
      ],
      "metadata": {
        "colab": {
          "base_uri": "https://localhost:8080/"
        },
        "id": "W0lOet5AhyJA",
        "outputId": "9d33a77c-ccce-4779-8075-03bf34b0df44"
      },
      "execution_count": 84,
      "outputs": [
        {
          "output_type": "stream",
          "name": "stdout",
          "text": [
            "VN0,kuggaa,reverse-ex,Mirocow,vslinko\n"
          ]
        }
      ]
    },
    {
      "cell_type": "markdown",
      "source": [
        "Q15. Do people who are hireable share their email addresses more often?\n",
        "[fraction of users with email when hireable=true] minus [fraction of users with email for the rest] (to 3 decimal places, e.g. 0.123 or -0.123)"
      ],
      "metadata": {
        "id": "MmXApWbYhW4O"
      }
    },
    {
      "cell_type": "code",
      "source": [
        "users_df.head()\n",
        "a=users_df[users_df['hireable']=='true'].shape[0]\n",
        "b=users_df[users_df['hireable']=='none'].shape[0]\n",
        "hireable_with_email = users_df[(users_df['hireable'] =='true') & (users_df['email'].notna())].shape[0]\n",
        "not_hireable= users_df[(users_df['hireable'] == 'none') & (users_df['email'].notna())].shape[0]\n",
        "hireable_with_email_fraction = hireable_with_email / a\n",
        "not_hireable_fraction = not_hireable / b\n",
        "email_difference = round(hireable_with_email_fraction - not_hireable_fraction, 3)\n",
        "email_difference\n"
      ],
      "metadata": {
        "colab": {
          "base_uri": "https://localhost:8080/"
        },
        "id": "ZDDo7cAO8NDr",
        "outputId": "3a7d35e9-d06d-4f49-eb95-eb6aa8e6d4ac"
      },
      "execution_count": 113,
      "outputs": [
        {
          "output_type": "execute_result",
          "data": {
            "text/plain": [
              "0.189"
            ]
          },
          "metadata": {},
          "execution_count": 113
        }
      ]
    },
    {
      "cell_type": "markdown",
      "source": [
        "Q16. Let's assume that the last word in a user's name is their surname (ignore missing names, trim and split by whitespace.) What's the most common surname? (If there's a tie, list them all, comma-separated, alphabetically)\n",
        "Number of users with the most common surname"
      ],
      "metadata": {
        "id": "xMD5ZKhHgblx"
      }
    },
    {
      "cell_type": "code",
      "source": [
        "new_users = users_df[users_df['name'].notna()].copy()\n",
        "new_users['surname'] = new_users['name'].str.split().str[-1].str.strip()\n",
        "surname_counts = new_users['surname'].value_counts()\n",
        "max_count = surname_counts.max()\n",
        "common_surnames = surname_counts[surname_counts == max_count].index.tolist()\n",
        "common_surnames.sort()\n",
        "print(','.join(common_surnames))"
      ],
      "metadata": {
        "colab": {
          "base_uri": "https://localhost:8080/"
        },
        "id": "msNpqKfjhKiC",
        "outputId": "a4cbf895-5ba4-4ce4-d173-fe8b094069eb"
      },
      "execution_count": 34,
      "outputs": [
        {
          "output_type": "stream",
          "name": "stdout",
          "text": [
            "Romanov\n"
          ]
        }
      ]
    }
  ]
}